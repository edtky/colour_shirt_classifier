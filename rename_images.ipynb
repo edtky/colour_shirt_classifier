{
 "cells": [
  {
   "cell_type": "markdown",
   "metadata": {},
   "source": [
    "# Format images to .jpg files and rename "
   ]
  },
  {
   "cell_type": "code",
   "execution_count": 21,
   "metadata": {
    "scrolled": true
   },
   "outputs": [],
   "source": [
    "import os    "
   ]
  },
  {
   "cell_type": "code",
   "execution_count": 22,
   "metadata": {},
   "outputs": [],
   "source": [
    "# Function to rename multiple files \n",
    "def main(dir_name, file_target): \n",
    "    i = 0\n",
    "    \n",
    "    source = \"/Users/edwardtiong/Desktop/SV19/objectDetection/imageai/data/downloads/\" + dir_name + \"/\"\n",
    "      \n",
    "    for filename in os.listdir(source): \n",
    "        dst =file_target + str(i) + \".jpg\"\n",
    "        src = source + filename \n",
    "        dst = source + dst \n",
    "          \n",
    "        # rename() function will \n",
    "        # rename all the files \n",
    "        os.rename(src, dst) \n",
    "        i += 1\n",
    "    \n",
    "    print(\"done!\")"
   ]
  },
  {
   "cell_type": "code",
   "execution_count": 17,
   "metadata": {},
   "outputs": [],
   "source": [
    "main(\"blue_shirt\",\"blue\")\n",
    "main(\"red_shirt\",\"red\")\n",
    "main(\"green_shirt\",\"green\")"
   ]
  }
 ],
 "metadata": {
  "kernelspec": {
   "display_name": "Python 3",
   "language": "python",
   "name": "python3"
  },
  "language_info": {
   "codemirror_mode": {
    "name": "ipython",
    "version": 3
   },
   "file_extension": ".py",
   "mimetype": "text/x-python",
   "name": "python",
   "nbconvert_exporter": "python",
   "pygments_lexer": "ipython3",
   "version": "3.6.5"
  }
 },
 "nbformat": 4,
 "nbformat_minor": 2
}
